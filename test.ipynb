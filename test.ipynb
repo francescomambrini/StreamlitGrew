{
 "cells": [
  {
   "cell_type": "code",
   "execution_count": 2,
   "metadata": {},
   "outputs": [],
   "source": [
    "import grewpy\n",
    "from grewpy import Corpus, CorpusDraft, Request, grew_web\n",
    "from grewpy.grew_web import Grew_web\n",
    "from IPython.display import SVG\n",
    "from udapi.core.document import Document\n",
    "import conllu"
   ]
  },
  {
   "cell_type": "markdown",
   "metadata": {},
   "source": [
    "How many occurrences of the lemma \"amore\" are there in the two files?"
   ]
  },
  {
   "cell_type": "code",
   "execution_count": 7,
   "metadata": {},
   "outputs": [
    {
     "name": "stdout",
     "output_type": "stream",
     "text": [
      "53\n"
     ]
    }
   ],
   "source": [
    "from glob import glob\n",
    "pths = glob('./test/*.conllu')\n",
    "\n",
    "i = 0\n",
    "for p in pths:\n",
    "    with open(p) as f:\n",
    "        sents = conllu.parse(f.read())\n",
    "        tks = [t for s in sents for t in s if t['lemma'] == 'amore']\n",
    "        i += len(tks)\n",
    "print(i)"
   ]
  },
  {
   "cell_type": "code",
   "execution_count": 8,
   "metadata": {},
   "outputs": [
    {
     "data": {
      "text/plain": [
       "50"
      ]
     },
     "execution_count": 8,
     "metadata": {},
     "output_type": "execute_result"
    }
   ],
   "source": [
    "corpus = Corpus(pths[0])\n",
    "\n",
    "ptrn = '''X [ lemma=\"amore\" ] ;\n",
    "'''\n",
    "\n",
    "req = Request(ptrn)\n",
    "res = corpus.search(req, deco=True)\n",
    "len(res)\n"
   ]
  },
  {
   "cell_type": "code",
   "execution_count": null,
   "metadata": {},
   "outputs": [],
   "source": []
  }
 ],
 "metadata": {
  "kernelspec": {
   "display_name": "NLP environment (nlp)",
   "language": "python",
   "name": "nlp"
  },
  "language_info": {
   "codemirror_mode": {
    "name": "ipython",
    "version": 3
   },
   "file_extension": ".py",
   "mimetype": "text/x-python",
   "name": "python",
   "nbconvert_exporter": "python",
   "pygments_lexer": "ipython3",
   "version": "3.11.0"
  }
 },
 "nbformat": 4,
 "nbformat_minor": 2
}
